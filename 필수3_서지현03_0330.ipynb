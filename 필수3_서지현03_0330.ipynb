{
 "cells": [
  {
   "cell_type": "markdown",
   "id": "97822da8",
   "metadata": {},
   "source": [
    "### 필수과제 3\n",
    "- 금융 관련 데이터를 드릴 예정\n",
    "    - 피처가 좀 많다.\n",
    "    - 정상과 사기 관련된 피처들 ( 도메인 정리해서 말씀드릴게요 !) \n",
    "    - 피처 셀렉션을 통해 유의미한 피처가 무엇인지를 선정해 주시고\n",
    "    - 여러 방법들을 사용해서 (FilterMethod) 피처 선정하고 간단한 성능 평가까지 진행해 주세요.\n",
    "    - 성능 비교는 전체 데이터셋을 넣었을 때 -> 피처 셀렉션으로 넣었을 때\n",
    "    - 전체 성능보다 너무 떨어지면 -> 피처를 좀 더 추가해서 개선하여 최소 base만큼은 따라올 수 있게 진행!"
   ]
  },
  {
   "cell_type": "code",
   "execution_count": null,
   "id": "c4f091ac",
   "metadata": {
    "vscode": {
     "languageId": "plaintext"
    }
   },
   "outputs": [],
   "source": [
    "bank <- read.csv"
   ]
  },
  {
   "cell_type": "markdown",
   "id": "3b59e3c7",
   "metadata": {},
   "source": []
  },
  {
   "cell_type": "markdown",
   "id": "dc0459ca",
   "metadata": {},
   "source": []
  }
 ],
 "metadata": {
  "language_info": {
   "name": "python"
  }
 },
 "nbformat": 4,
 "nbformat_minor": 5
}
